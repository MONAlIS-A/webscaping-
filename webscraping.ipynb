{
 "cells": [
  {
   "cell_type": "code",
   "execution_count": 1,
   "id": "5c152578-502f-4154-a132-07594d5c73f0",
   "metadata": {},
   "outputs": [],
   "source": [
    "import pandas as pd\n",
    "import requests\n",
    "from bs4 import BeautifulSoup"
   ]
  },
  {
   "cell_type": "code",
   "execution_count": 9,
   "id": "9d0d92eb-1d25-4c4d-aa17-2ebdbba6fdae",
   "metadata": {},
   "outputs": [],
   "source": [
    "headers={'User-Agent':'Mozilla/5.0 (Windows NT 6.3; Win 64 ; x64) Apple WeKit /537.36(KHTML , like Gecko) Chrome/80.0.3987.162 Safari/537.36'} \n",
    "url='https://www.kaykraft.com/product-category/kids/girls/page/1/'\n",
    "webpage = requests.get(url,headers=headers).text\n"
   ]
  },
  {
   "cell_type": "code",
   "execution_count": 6,
   "id": "d343a3fa-ae74-4c13-ba52-8d3ea6ff7641",
   "metadata": {},
   "outputs": [],
   "source": [
    "# print(\"Status Code:\", response.status_code)"
   ]
  },
  {
   "cell_type": "code",
   "execution_count": 10,
   "id": "294be611-bad1-479d-a9b3-7a462857a74d",
   "metadata": {},
   "outputs": [],
   "source": [
    "soup=BeautifulSoup(webpage,'lxml')"
   ]
  },
  {
   "cell_type": "code",
   "execution_count": 79,
   "id": "168fd11f-ca43-4e9a-8f13-6f8e16825eb8",
   "metadata": {},
   "outputs": [],
   "source": [
    "# print(soup.prettify())\n"
   ]
  },
  {
   "cell_type": "code",
   "execution_count": 12,
   "id": "4710b636-5255-438d-83a6-52ca508e11ce",
   "metadata": {},
   "outputs": [
    {
     "data": {
      "text/plain": [
       "'Girls'"
      ]
     },
     "execution_count": 12,
     "metadata": {},
     "output_type": "execute_result"
    }
   ],
   "source": [
    "soup.find_all('h1')[0].text"
   ]
  },
  {
   "cell_type": "code",
   "execution_count": 29,
   "id": "9accc98c-19e9-4235-bd0d-24ff654d2efa",
   "metadata": {},
   "outputs": [],
   "source": [
    "product =soup.find_all('div',class_='product-wrap')"
   ]
  },
  {
   "cell_type": "code",
   "execution_count": 31,
   "id": "ecfbe3c5-158f-4eea-b928-ddfdbe5df7af",
   "metadata": {},
   "outputs": [
    {
     "data": {
      "text/plain": [
       "12"
      ]
     },
     "execution_count": 31,
     "metadata": {},
     "output_type": "execute_result"
    }
   ],
   "source": [
    "len(product)"
   ]
  },
  {
   "cell_type": "code",
   "execution_count": 72,
   "id": "e43a8f55-0fd6-4a72-aef3-c43e4379eaa2",
   "metadata": {},
   "outputs": [],
   "source": [
    "price = []\n",
    "product_name = []\n",
    "for i in product:\n",
    "    product_name.append(i.find_all('h2',class_='woocommerce-loop-product__title')[0].text.strip())\n",
    "    price.append(i.find_all('span', class_='woocommerce-Price-amount')[0].text.strip())\n",
    "  \n"
   ]
  },
  {
   "cell_type": "code",
   "execution_count": 68,
   "id": "f02452f7-4832-45c8-a1c7-ddcc757ee3a5",
   "metadata": {},
   "outputs": [
    {
     "data": {
      "text/plain": [
       "['৳\\xa02,250.00',\n",
       " '৳\\xa02,615.00',\n",
       " '৳\\xa02,165.00',\n",
       " '৳\\xa01,875.00',\n",
       " '৳\\xa02,195.00',\n",
       " '৳\\xa01,925.00',\n",
       " '৳\\xa02,765.00',\n",
       " '৳\\xa02,565.00',\n",
       " '৳\\xa02,325.00',\n",
       " '৳\\xa02,045.00',\n",
       " '৳\\xa02,745.00',\n",
       " '৳\\xa02,545.00']"
      ]
     },
     "execution_count": 68,
     "metadata": {},
     "output_type": "execute_result"
    }
   ],
   "source": [
    "price"
   ]
  },
  {
   "cell_type": "code",
   "execution_count": 69,
   "id": "c3929d24-f81e-48f7-9251-ac098a51abea",
   "metadata": {},
   "outputs": [
    {
     "name": "stdout",
     "output_type": "stream",
     "text": [
      "[2250.0, 2615.0, 2165.0, 1875.0, 2195.0, 1925.0, 2765.0, 2565.0, 2325.0, 2045.0, 2745.0, 2545.0]\n"
     ]
    }
   ],
   "source": [
    "\n",
    "product_prices = []\n",
    "\n",
    "for price in price:\n",
    "    # Remove currency symbol and non-numeric characters\n",
    "    numeric = price.replace('৳', '').replace('\\xa0', '').replace(',', '')\n",
    "    product_prices.append(float(numeric))\n",
    "\n",
    "print(product_prices)"
   ]
  },
  {
   "cell_type": "code",
   "execution_count": 76,
   "id": "c4901d87-5cce-49ed-856a-7dd2e8aa457e",
   "metadata": {},
   "outputs": [
    {
     "data": {
      "text/plain": [
       "12"
      ]
     },
     "execution_count": 76,
     "metadata": {},
     "output_type": "execute_result"
    }
   ],
   "source": [
    "len(product_prices)"
   ]
  },
  {
   "cell_type": "code",
   "execution_count": 75,
   "id": "645166a4-f835-48c5-a393-e7ced40c8b9c",
   "metadata": {},
   "outputs": [
    {
     "data": {
      "text/plain": [
       "12"
      ]
     },
     "execution_count": 75,
     "metadata": {},
     "output_type": "execute_result"
    }
   ],
   "source": [
    "len(product_name)"
   ]
  },
  {
   "cell_type": "code",
   "execution_count": 77,
   "id": "d19fd763-dc40-4354-9c9b-eb2b6b4ae2f2",
   "metadata": {},
   "outputs": [],
   "source": [
    "df=pd.DataFrame({'Product name':product_name,\n",
    "   'Price':product_prices\n",
    "   })"
   ]
  },
  {
   "cell_type": "code",
   "execution_count": 78,
   "id": "62166ec3-eef4-4301-a324-886da4a10024",
   "metadata": {},
   "outputs": [
    {
     "data": {
      "text/html": [
       "<div>\n",
       "<style scoped>\n",
       "    .dataframe tbody tr th:only-of-type {\n",
       "        vertical-align: middle;\n",
       "    }\n",
       "\n",
       "    .dataframe tbody tr th {\n",
       "        vertical-align: top;\n",
       "    }\n",
       "\n",
       "    .dataframe thead th {\n",
       "        text-align: right;\n",
       "    }\n",
       "</style>\n",
       "<table border=\"1\" class=\"dataframe\">\n",
       "  <thead>\n",
       "    <tr style=\"text-align: right;\">\n",
       "      <th></th>\n",
       "      <th>Product name</th>\n",
       "      <th>Price</th>\n",
       "    </tr>\n",
       "  </thead>\n",
       "  <tbody>\n",
       "    <tr>\n",
       "      <th>0</th>\n",
       "      <td>Navy Blue Georgette Printed Top with Skirt for...</td>\n",
       "      <td>2250.0</td>\n",
       "    </tr>\n",
       "    <tr>\n",
       "      <th>1</th>\n",
       "      <td>Navy Blue Georgette Printed Top with Skirt for...</td>\n",
       "      <td>2615.0</td>\n",
       "    </tr>\n",
       "    <tr>\n",
       "      <th>2</th>\n",
       "      <td>Purple Voile Printed &amp; Tie-dyed Salwar Kameez ...</td>\n",
       "      <td>2165.0</td>\n",
       "    </tr>\n",
       "    <tr>\n",
       "      <th>3</th>\n",
       "      <td>Purple Voile Printed &amp; Tie-dyed Salwar Kameez ...</td>\n",
       "      <td>1875.0</td>\n",
       "    </tr>\n",
       "    <tr>\n",
       "      <th>4</th>\n",
       "      <td>Navy Blue Voile Printed &amp; Tie-dyed Salwar Kame...</td>\n",
       "      <td>2195.0</td>\n",
       "    </tr>\n",
       "    <tr>\n",
       "      <th>5</th>\n",
       "      <td>Navy Blue Voile Printed &amp; Tie-dyed Salwar Kame...</td>\n",
       "      <td>1925.0</td>\n",
       "    </tr>\n",
       "    <tr>\n",
       "      <th>6</th>\n",
       "      <td>Orange Linen Printed &amp; Embroidered Salwar Kame...</td>\n",
       "      <td>2765.0</td>\n",
       "    </tr>\n",
       "    <tr>\n",
       "      <th>7</th>\n",
       "      <td>Orange Linen Printed &amp; Embroidered Salwar Kame...</td>\n",
       "      <td>2565.0</td>\n",
       "    </tr>\n",
       "    <tr>\n",
       "      <th>8</th>\n",
       "      <td>Lavender Linen Printed &amp; Embroidered Salwar Ka...</td>\n",
       "      <td>2325.0</td>\n",
       "    </tr>\n",
       "    <tr>\n",
       "      <th>9</th>\n",
       "      <td>Lavender Linen Printed &amp; Embroidered Salwar Ka...</td>\n",
       "      <td>2045.0</td>\n",
       "    </tr>\n",
       "    <tr>\n",
       "      <th>10</th>\n",
       "      <td>Teal Green Voile Printed Salwar Kameez Set for...</td>\n",
       "      <td>2745.0</td>\n",
       "    </tr>\n",
       "    <tr>\n",
       "      <th>11</th>\n",
       "      <td>Teal Green Voile Printed Salwar Kameez Set for...</td>\n",
       "      <td>2545.0</td>\n",
       "    </tr>\n",
       "  </tbody>\n",
       "</table>\n",
       "</div>"
      ],
      "text/plain": [
       "                                         Product name   Price\n",
       "0   Navy Blue Georgette Printed Top with Skirt for...  2250.0\n",
       "1   Navy Blue Georgette Printed Top with Skirt for...  2615.0\n",
       "2   Purple Voile Printed & Tie-dyed Salwar Kameez ...  2165.0\n",
       "3   Purple Voile Printed & Tie-dyed Salwar Kameez ...  1875.0\n",
       "4   Navy Blue Voile Printed & Tie-dyed Salwar Kame...  2195.0\n",
       "5   Navy Blue Voile Printed & Tie-dyed Salwar Kame...  1925.0\n",
       "6   Orange Linen Printed & Embroidered Salwar Kame...  2765.0\n",
       "7   Orange Linen Printed & Embroidered Salwar Kame...  2565.0\n",
       "8   Lavender Linen Printed & Embroidered Salwar Ka...  2325.0\n",
       "9   Lavender Linen Printed & Embroidered Salwar Ka...  2045.0\n",
       "10  Teal Green Voile Printed Salwar Kameez Set for...  2745.0\n",
       "11  Teal Green Voile Printed Salwar Kameez Set for...  2545.0"
      ]
     },
     "execution_count": 78,
     "metadata": {},
     "output_type": "execute_result"
    }
   ],
   "source": [
    "df"
   ]
  },
  {
   "cell_type": "code",
   "execution_count": null,
   "id": "3882072e-4b82-42bd-8201-dad069635ca6",
   "metadata": {},
   "outputs": [],
   "source": []
  }
 ],
 "metadata": {
  "kernelspec": {
   "display_name": "Python 3 (ipykernel)",
   "language": "python",
   "name": "python3"
  },
  "language_info": {
   "codemirror_mode": {
    "name": "ipython",
    "version": 3
   },
   "file_extension": ".py",
   "mimetype": "text/x-python",
   "name": "python",
   "nbconvert_exporter": "python",
   "pygments_lexer": "ipython3",
   "version": "3.12.4"
  }
 },
 "nbformat": 4,
 "nbformat_minor": 5
}
